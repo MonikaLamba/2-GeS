{
  "nbformat": 4,
  "nbformat_minor": 0,
  "metadata": {
    "colab": {
      "provenance": [],
      "authorship_tag": "ABX9TyNceTmxne8VXkHOu6bvJQP9",
      "include_colab_link": true
    },
    "kernelspec": {
      "name": "python3",
      "display_name": "Python 3"
    },
    "language_info": {
      "name": "python"
    }
  },
  "cells": [
    {
      "cell_type": "markdown",
      "metadata": {
        "id": "view-in-github",
        "colab_type": "text"
      },
      "source": [
        "<a href=\"https://colab.research.google.com/github/MonikaLamba/2-GeS/blob/main/ARIMA_FINAL_ALL.ipynb\" target=\"_parent\"><img src=\"https://colab.research.google.com/assets/colab-badge.svg\" alt=\"Open In Colab\"/></a>"
      ]
    },
    {
      "cell_type": "code",
      "execution_count": 43,
      "metadata": {
        "id": "b6bt7UlyQMUg"
      },
      "outputs": [],
      "source": [
        "import os\n",
        "import pandas as pd\n",
        "import numpy as np\n",
        "import matplotlib.pyplot as plt"
      ]
    },
    {
      "cell_type": "code",
      "source": [
        "df = pd.read_csv('/content/data set arima12.csv',parse_dates=['Date'], index_col=['Date'])"
      ],
      "metadata": {
        "id": "oYej2LYOQdeo"
      },
      "execution_count": 44,
      "outputs": []
    },
    {
      "cell_type": "code",
      "source": [
        "df.head()"
      ],
      "metadata": {
        "colab": {
          "base_uri": "https://localhost:8080/",
          "height": 237
        },
        "id": "FvdDvJWiQ8Ib",
        "outputId": "9bf1ce4c-4afd-48ca-b98e-69c8695c940d"
      },
      "execution_count": 45,
      "outputs": [
        {
          "output_type": "execute_result",
          "data": {
            "text/plain": [
              "               Nifty 50\n",
              "Date                   \n",
              "2019-01-01  10830.95020\n",
              "2019-02-01  10792.50000\n",
              "2019-03-01  11623.90039\n",
              "2019-04-01  11748.15039\n",
              "2019-05-01  11922.79981"
            ],
            "text/html": [
              "\n",
              "  <div id=\"df-3c43f996-0e76-435c-873f-4c8ccad052c8\">\n",
              "    <div class=\"colab-df-container\">\n",
              "      <div>\n",
              "<style scoped>\n",
              "    .dataframe tbody tr th:only-of-type {\n",
              "        vertical-align: middle;\n",
              "    }\n",
              "\n",
              "    .dataframe tbody tr th {\n",
              "        vertical-align: top;\n",
              "    }\n",
              "\n",
              "    .dataframe thead th {\n",
              "        text-align: right;\n",
              "    }\n",
              "</style>\n",
              "<table border=\"1\" class=\"dataframe\">\n",
              "  <thead>\n",
              "    <tr style=\"text-align: right;\">\n",
              "      <th></th>\n",
              "      <th>Nifty 50</th>\n",
              "    </tr>\n",
              "    <tr>\n",
              "      <th>Date</th>\n",
              "      <th></th>\n",
              "    </tr>\n",
              "  </thead>\n",
              "  <tbody>\n",
              "    <tr>\n",
              "      <th>2019-01-01</th>\n",
              "      <td>10830.95020</td>\n",
              "    </tr>\n",
              "    <tr>\n",
              "      <th>2019-02-01</th>\n",
              "      <td>10792.50000</td>\n",
              "    </tr>\n",
              "    <tr>\n",
              "      <th>2019-03-01</th>\n",
              "      <td>11623.90039</td>\n",
              "    </tr>\n",
              "    <tr>\n",
              "      <th>2019-04-01</th>\n",
              "      <td>11748.15039</td>\n",
              "    </tr>\n",
              "    <tr>\n",
              "      <th>2019-05-01</th>\n",
              "      <td>11922.79981</td>\n",
              "    </tr>\n",
              "  </tbody>\n",
              "</table>\n",
              "</div>\n",
              "      <button class=\"colab-df-convert\" onclick=\"convertToInteractive('df-3c43f996-0e76-435c-873f-4c8ccad052c8')\"\n",
              "              title=\"Convert this dataframe to an interactive table.\"\n",
              "              style=\"display:none;\">\n",
              "        \n",
              "  <svg xmlns=\"http://www.w3.org/2000/svg\" height=\"24px\"viewBox=\"0 0 24 24\"\n",
              "       width=\"24px\">\n",
              "    <path d=\"M0 0h24v24H0V0z\" fill=\"none\"/>\n",
              "    <path d=\"M18.56 5.44l.94 2.06.94-2.06 2.06-.94-2.06-.94-.94-2.06-.94 2.06-2.06.94zm-11 1L8.5 8.5l.94-2.06 2.06-.94-2.06-.94L8.5 2.5l-.94 2.06-2.06.94zm10 10l.94 2.06.94-2.06 2.06-.94-2.06-.94-.94-2.06-.94 2.06-2.06.94z\"/><path d=\"M17.41 7.96l-1.37-1.37c-.4-.4-.92-.59-1.43-.59-.52 0-1.04.2-1.43.59L10.3 9.45l-7.72 7.72c-.78.78-.78 2.05 0 2.83L4 21.41c.39.39.9.59 1.41.59.51 0 1.02-.2 1.41-.59l7.78-7.78 2.81-2.81c.8-.78.8-2.07 0-2.86zM5.41 20L4 18.59l7.72-7.72 1.47 1.35L5.41 20z\"/>\n",
              "  </svg>\n",
              "      </button>\n",
              "      \n",
              "  <style>\n",
              "    .colab-df-container {\n",
              "      display:flex;\n",
              "      flex-wrap:wrap;\n",
              "      gap: 12px;\n",
              "    }\n",
              "\n",
              "    .colab-df-convert {\n",
              "      background-color: #E8F0FE;\n",
              "      border: none;\n",
              "      border-radius: 50%;\n",
              "      cursor: pointer;\n",
              "      display: none;\n",
              "      fill: #1967D2;\n",
              "      height: 32px;\n",
              "      padding: 0 0 0 0;\n",
              "      width: 32px;\n",
              "    }\n",
              "\n",
              "    .colab-df-convert:hover {\n",
              "      background-color: #E2EBFA;\n",
              "      box-shadow: 0px 1px 2px rgba(60, 64, 67, 0.3), 0px 1px 3px 1px rgba(60, 64, 67, 0.15);\n",
              "      fill: #174EA6;\n",
              "    }\n",
              "\n",
              "    [theme=dark] .colab-df-convert {\n",
              "      background-color: #3B4455;\n",
              "      fill: #D2E3FC;\n",
              "    }\n",
              "\n",
              "    [theme=dark] .colab-df-convert:hover {\n",
              "      background-color: #434B5C;\n",
              "      box-shadow: 0px 1px 3px 1px rgba(0, 0, 0, 0.15);\n",
              "      filter: drop-shadow(0px 1px 2px rgba(0, 0, 0, 0.3));\n",
              "      fill: #FFFFFF;\n",
              "    }\n",
              "  </style>\n",
              "\n",
              "      <script>\n",
              "        const buttonEl =\n",
              "          document.querySelector('#df-3c43f996-0e76-435c-873f-4c8ccad052c8 button.colab-df-convert');\n",
              "        buttonEl.style.display =\n",
              "          google.colab.kernel.accessAllowed ? 'block' : 'none';\n",
              "\n",
              "        async function convertToInteractive(key) {\n",
              "          const element = document.querySelector('#df-3c43f996-0e76-435c-873f-4c8ccad052c8');\n",
              "          const dataTable =\n",
              "            await google.colab.kernel.invokeFunction('convertToInteractive',\n",
              "                                                     [key], {});\n",
              "          if (!dataTable) return;\n",
              "\n",
              "          const docLinkHtml = 'Like what you see? Visit the ' +\n",
              "            '<a target=\"_blank\" href=https://colab.research.google.com/notebooks/data_table.ipynb>data table notebook</a>'\n",
              "            + ' to learn more about interactive tables.';\n",
              "          element.innerHTML = '';\n",
              "          dataTable['output_type'] = 'display_data';\n",
              "          await google.colab.output.renderOutput(dataTable, element);\n",
              "          const docLink = document.createElement('div');\n",
              "          docLink.innerHTML = docLinkHtml;\n",
              "          element.appendChild(docLink);\n",
              "        }\n",
              "      </script>\n",
              "    </div>\n",
              "  </div>\n",
              "  "
            ]
          },
          "metadata": {},
          "execution_count": 45
        }
      ]
    },
    {
      "cell_type": "code",
      "source": [
        "df.plot()"
      ],
      "metadata": {
        "colab": {
          "base_uri": "https://localhost:8080/",
          "height": 309
        },
        "id": "RDhVpyp3Q-CS",
        "outputId": "97e95ed2-5924-4dd6-fbce-ad69ab7efe70"
      },
      "execution_count": 46,
      "outputs": [
        {
          "output_type": "execute_result",
          "data": {
            "text/plain": [
              "<matplotlib.axes._subplots.AxesSubplot at 0x7fbc6711ba10>"
            ]
          },
          "metadata": {},
          "execution_count": 46
        },
        {
          "output_type": "display_data",
          "data": {
            "text/plain": [
              "<Figure size 432x288 with 1 Axes>"
            ],
            "image/png": "[encoded data removed]"
          },
          "metadata": {
            "needs_background": "light"
          }
        }
      ]
    },
    {
      "cell_type": "markdown",
      "source": [
        "Stationarity Check"
      ],
      "metadata": {
        "id": "2v85tgYvSVBe"
      }
    },
    {
      "cell_type": "markdown",
      "source": [
        "Resampling of data from daily to monthly"
      ],
      "metadata": {
        "id": "UXHIBgdFUISa"
      }
    },
    {
      "cell_type": "code",
      "source": [
        "ts = df['Nifty 50'].resample('MS').sum()\n",
        "ts.head()"
      ],
      "metadata": {
        "colab": {
          "base_uri": "https://localhost:8080/"
        },
        "id": "6VzdCSr9UL_X",
        "outputId": "62a198de-0814-40d6-ddcc-7e4a3f86cb23"
      },
      "execution_count": 47,
      "outputs": [
        {
          "output_type": "execute_result",
          "data": {
            "text/plain": [
              "Date\n",
              "2019-01-01    10830.95020\n",
              "2019-02-01    10792.50000\n",
              "2019-03-01    11623.90039\n",
              "2019-04-01    11748.15039\n",
              "2019-05-01    11922.79981\n",
              "Freq: MS, Name: Nifty 50, dtype: float64"
            ]
          },
          "metadata": {},
          "execution_count": 47
        }
      ]
    },
    {
      "cell_type": "code",
      "source": [
        "ts.plot()"
      ],
      "metadata": {
        "colab": {
          "base_uri": "https://localhost:8080/",
          "height": 309
        },
        "id": "-sgGLKvTUG50",
        "outputId": "17a80410-e4f0-4b79-f31f-b515fb0bd33c"
      },
      "execution_count": 48,
      "outputs": [
        {
          "output_type": "execute_result",
          "data": {
            "text/plain": [
              "<matplotlib.axes._subplots.AxesSubplot at 0x7fbc65ce3d90>"
            ]
          },
          "metadata": {},
          "execution_count": 48
        },
        {
          "output_type": "display_data",
          "data": {
            "text/plain": [
              "<Figure size 432x288 with 1 Axes>"
            ],
            "image/png": "[encoded data removed]"
          },
          "metadata": {
            "needs_background": "light"
          }
        }
      ]
    },
    {
      "cell_type": "code",
      "source": [
        "import matplotlib.pyplot as plt\n",
        "import statsmodels.api as sm\n",
        "decomposition = sm.tsa.seasonal_decompose(ts,model='additive')\n",
        "fig1 = decomposition.plot\n",
        "plt.show()"
      ],
      "metadata": {
        "id": "PvFVynRKRLPB"
      },
      "execution_count": 49,
      "outputs": []
    },
    {
      "cell_type": "code",
      "source": [
        "import statsmodels.api as sm\n",
        "decomposition = sm.tsa.seasonal_decompose(ts,model='multiplicative')\n",
        "fig2 = decomposition.plot\n",
        "plt.show()"
      ],
      "metadata": {
        "id": "GJdO3ZqDRTAV"
      },
      "execution_count": 50,
      "outputs": []
    },
    {
      "cell_type": "code",
      "source": [
        "from statsmodels.tsa.stattools import adfuller\n",
        "adftest = adfuller(ts)\n",
        "print('Pvalue of adfuller test is:', adftest[1])"
      ],
      "metadata": {
        "colab": {
          "base_uri": "https://localhost:8080/"
        },
        "id": "A_1aAPxmVggl",
        "outputId": "56acac52-387f-4d74-87d9-ad36b157becf"
      },
      "execution_count": 51,
      "outputs": [
        {
          "output_type": "stream",
          "name": "stdout",
          "text": [
            "Pvalue of adfuller test is: 0.9416974552024645\n"
          ]
        }
      ]
    },
    {
      "cell_type": "markdown",
      "source": [
        "Train and Test"
      ],
      "metadata": {
        "id": "yEzKtdZcX-bm"
      }
    },
    {
      "cell_type": "code",
      "source": [
        "len(ts)"
      ],
      "metadata": {
        "colab": {
          "base_uri": "https://localhost:8080/"
        },
        "id": "slPANeOBX7m8",
        "outputId": "f3bf8285-c118-40f2-e54d-4ecf93152ec0"
      },
      "execution_count": 52,
      "outputs": [
        {
          "output_type": "execute_result",
          "data": {
            "text/plain": [
              "37"
            ]
          },
          "metadata": {},
          "execution_count": 52
        }
      ]
    },
    {
      "cell_type": "code",
      "source": [
        "train = ts[:20]\n",
        "test = ts[20:]"
      ],
      "metadata": {
        "id": "Aeep5KmaYBBC"
      },
      "execution_count": 53,
      "outputs": []
    },
    {
      "cell_type": "code",
      "source": [
        "len(train)"
      ],
      "metadata": {
        "colab": {
          "base_uri": "https://localhost:8080/"
        },
        "id": "1KfvLrLQYY4F",
        "outputId": "786d1fce-7c06-4452-b140-4e855742d962"
      },
      "execution_count": 54,
      "outputs": [
        {
          "output_type": "execute_result",
          "data": {
            "text/plain": [
              "20"
            ]
          },
          "metadata": {},
          "execution_count": 54
        }
      ]
    },
    {
      "cell_type": "code",
      "source": [
        "len(test)"
      ],
      "metadata": {
        "colab": {
          "base_uri": "https://localhost:8080/"
        },
        "id": "4jbBxYZ2YaPz",
        "outputId": "e6059bf3-3366-4c12-f629-e1e527e4905c"
      },
      "execution_count": 55,
      "outputs": [
        {
          "output_type": "execute_result",
          "data": {
            "text/plain": [
              "17"
            ]
          },
          "metadata": {},
          "execution_count": 55
        }
      ]
    },
    {
      "cell_type": "markdown",
      "source": [
        "ARIMA MODEL BUILDING"
      ],
      "metadata": {
        "id": "2ZTLzfzlYhJe"
      }
    },
    {
      "cell_type": "code",
      "source": [
        "!pip install pmdarima\n",
        "import os\n",
        "import warnings\n",
        "warnings.filterwarnings('ignore')\n",
        "import numpy as np\n",
        "import pandas as pd\n",
        "import matplotlib.pyplot as plt\n",
        "from statsmodels.tsa.stattools import adfuller\n",
        "from statsmodels.tsa.seasonal import seasonal_decompose\n",
        "from statsmodels.tsa.arima_model import ARIMA\n",
        "#from statsmodels.tsa.arima.model.ARIMA import ARIMA\n",
        "from pmdarima.arima import auto_arima\n",
        "from sklearn.metrics import mean_squared_error, mean_absolute_error\n",
        "import math"
      ],
      "metadata": {
        "colab": {
          "base_uri": "https://localhost:8080/"
        },
        "id": "z0Sc2PgHaF7U",
        "outputId": "8043c7d8-388c-43b9-f612-31d6d8c9d849"
      },
      "execution_count": 56,
      "outputs": [
        {
          "output_type": "stream",
          "name": "stdout",
          "text": [
            "Looking in indexes: https://pypi.org/simple, https://us-python.pkg.dev/colab-wheels/public/simple/\n",
            "Requirement already satisfied: pmdarima in /usr/local/lib/python3.7/dist-packages (2.0.1)\n",
            "Requirement already satisfied: Cython!=0.29.18,!=0.29.31,>=0.29 in /usr/local/lib/python3.7/dist-packages (from pmdarima) (0.29.32)\n",
            "Requirement already satisfied: numpy>=1.21 in /usr/local/lib/python3.7/dist-packages (from pmdarima) (1.21.6)\n",
            "Requirement already satisfied: statsmodels>=0.13.2 in /usr/local/lib/python3.7/dist-packages (from pmdarima) (0.13.5)\n",
            "Requirement already satisfied: urllib3 in /usr/local/lib/python3.7/dist-packages (from pmdarima) (1.24.3)\n",
            "Requirement already satisfied: scikit-learn>=0.22 in /usr/local/lib/python3.7/dist-packages (from pmdarima) (1.0.2)\n",
            "Requirement already satisfied: pandas>=0.19 in /usr/local/lib/python3.7/dist-packages (from pmdarima) (1.3.5)\n",
            "Requirement already satisfied: joblib>=0.11 in /usr/local/lib/python3.7/dist-packages (from pmdarima) (1.2.0)\n",
            "Requirement already satisfied: scipy>=1.3.2 in /usr/local/lib/python3.7/dist-packages (from pmdarima) (1.7.3)\n",
            "Requirement already satisfied: setuptools!=50.0.0,>=38.6.0 in /usr/local/lib/python3.7/dist-packages (from pmdarima) (57.4.0)\n",
            "Requirement already satisfied: pytz>=2017.3 in /usr/local/lib/python3.7/dist-packages (from pandas>=0.19->pmdarima) (2022.6)\n",
            "Requirement already satisfied: python-dateutil>=2.7.3 in /usr/local/lib/python3.7/dist-packages (from pandas>=0.19->pmdarima) (2.8.2)\n",
            "Requirement already satisfied: six>=1.5 in /usr/local/lib/python3.7/dist-packages (from python-dateutil>=2.7.3->pandas>=0.19->pmdarima) (1.15.0)\n",
            "Requirement already satisfied: threadpoolctl>=2.0.0 in /usr/local/lib/python3.7/dist-packages (from scikit-learn>=0.22->pmdarima) (3.1.0)\n",
            "Requirement already satisfied: patsy>=0.5.2 in /usr/local/lib/python3.7/dist-packages (from statsmodels>=0.13.2->pmdarima) (0.5.3)\n",
            "Requirement already satisfied: packaging>=21.3 in /usr/local/lib/python3.7/dist-packages (from statsmodels>=0.13.2->pmdarima) (21.3)\n",
            "Requirement already satisfied: pyparsing!=3.0.5,>=2.0.2 in /usr/local/lib/python3.7/dist-packages (from packaging>=21.3->statsmodels>=0.13.2->pmdarima) (3.0.9)\n"
          ]
        }
      ]
    },
    {
      "cell_type": "code",
      "source": [
        "import warnings\n",
        "warnings.filterwarnings('ignore', 'statsmodels.tsa.arima_model.ARMA',\n",
        "                        FutureWarning)\n",
        "warnings.filterwarnings('ignore', 'statsmodels.tsa.arima_model.ARIMA',\n",
        "                        FutureWarning)\n",
        "from statsmodels.tsa.arima_model import ARIMA\n",
        "import statsmodels.api as sm\n",
        "model = sm.tsa.arima.ARIMA(train, order=(1,1,2)).fit()  \n",
        "#model = sm.tsa.arima.ARIMA(train,order(1,0,1)).fit()"
      ],
      "metadata": {
        "id": "6b1sjCJ3Yfjj"
      },
      "execution_count": 63,
      "outputs": []
    },
    {
      "cell_type": "code",
      "source": [
        "import warnings\n",
        "warnings.filterwarnings('ignore')\n",
        "pred=model.predict(start=len(train),end=(len(ts)-1))"
      ],
      "metadata": {
        "id": "VhVbcxJ9YcHe"
      },
      "execution_count": 64,
      "outputs": []
    },
    {
      "cell_type": "code",
      "source": [
        "from sklearn.metrics import mean_squared_error\n",
        "error=np.sqrt(mean_squared_error(test,pred))\n",
        "error"
      ],
      "metadata": {
        "colab": {
          "base_uri": "https://localhost:8080/"
        },
        "id": "9o9qLT1tdrea",
        "outputId": "ecf200bd-a8ea-49a4-e1b3-4cc51ac706ec"
      },
      "execution_count": 65,
      "outputs": [
        {
          "output_type": "execute_result",
          "data": {
            "text/plain": [
              "4300.6286344453365"
            ]
          },
          "metadata": {},
          "execution_count": 65
        }
      ]
    },
    {
      "cell_type": "code",
      "source": [
        "test.mean(), np.sqrt(test.var())"
      ],
      "metadata": {
        "colab": {
          "base_uri": "https://localhost:8080/"
        },
        "id": "EUtxPtZMeKY8",
        "outputId": "4cc0b270-2e7f-497a-8cb5-2a95997dd484"
      },
      "execution_count": 66,
      "outputs": [
        {
          "output_type": "execute_result",
          "data": {
            "text/plain": [
              "(15205.449967058823, 2047.0597014115917)"
            ]
          },
          "metadata": {},
          "execution_count": 66
        }
      ]
    },
    {
      "cell_type": "code",
      "source": [
        "train.plot(legend=True, label=\"Train\", figsize=(10,6))\n",
        "test.plot(legend=True, label=\"Test\")\n",
        "pred.plot(legend=True, label=\"Prediction ARIMA\")"
      ],
      "metadata": {
        "colab": {
          "base_uri": "https://localhost:8080/",
          "height": 417
        },
        "id": "tAZmFZa2eard",
        "outputId": "c317d4a0-a601-496f-a7e9-88097414be32"
      },
      "execution_count": 67,
      "outputs": [
        {
          "output_type": "execute_result",
          "data": {
            "text/plain": [
              "<matplotlib.axes._subplots.AxesSubplot at 0x7fbc63aa3cd0>"
            ]
          },
          "metadata": {},
          "execution_count": 67
        },
        {
          "output_type": "display_data",
          "data": {
            "text/plain": [
              "<Figure size 720x432 with 1 Axes>"
            ],
            "image/png": "[encoded data removed]"
          },
          "metadata": {
            "needs_background": "light"
          }
        }
      ]
    },
    {
      "cell_type": "code",
      "source": [
        "final_model = sm.tsa.arima.ARIMA(ts,order=(5,0,4)).fit()\n",
        "prediction = final_model.predict(len(ts),len(ts)+6)\n",
        "ts.plot(legend=True, label='Train',figsize=(10,6))\n",
        "prediction.plot(legend=True,label=\"Prediction\")"
      ],
      "metadata": {
        "colab": {
          "base_uri": "https://localhost:8080/",
          "height": 417
        },
        "id": "eCrz9ETKfOgI",
        "outputId": "86766cb7-8acc-4150-c883-c5c21f24a9af"
      },
      "execution_count": 71,
      "outputs": [
        {
          "output_type": "execute_result",
          "data": {
            "text/plain": [
              "<matplotlib.axes._subplots.AxesSubplot at 0x7fbc637f9390>"
            ]
          },
          "metadata": {},
          "execution_count": 71
        },
        {
          "output_type": "display_data",
          "data": {
            "text/plain": [
              "<Figure size 720x432 with 1 Axes>"
            ],
            "image/png": "[encoded data removed]"
          },
          "metadata": {
            "needs_background": "light"
          }
        }
      ]
    },
    {
      "cell_type": "code",
      "source": [
        "import itertools"
      ],
      "metadata": {
        "id": "AjbGiPdqgKU3"
      },
      "execution_count": 72,
      "outputs": []
    },
    {
      "cell_type": "code",
      "source": [
        "p=range(0,8)\n",
        "q=range(0,8)\n",
        "d=range(0,2)\n"
      ],
      "metadata": {
        "id": "hbLD-hg2hVdz"
      },
      "execution_count": 74,
      "outputs": []
    },
    {
      "cell_type": "code",
      "source": [
        "pdq_combination = list(itertools.product(p,q,d))\n",
        "len(pdq_combination)"
      ],
      "metadata": {
        "colab": {
          "base_uri": "https://localhost:8080/"
        },
        "id": "_oLu-T4Nhc1q",
        "outputId": "fce6f42e-cd47-44a9-bdad-221b7feeea10"
      },
      "execution_count": 75,
      "outputs": [
        {
          "output_type": "execute_result",
          "data": {
            "text/plain": [
              "128"
            ]
          },
          "metadata": {},
          "execution_count": 75
        }
      ]
    },
    {
      "cell_type": "code",
      "source": [
        "rmse=[]\n",
        "order1=[]"
      ],
      "metadata": {
        "id": "Ug1XusVmhtSt"
      },
      "execution_count": 76,
      "outputs": []
    },
    {
      "cell_type": "code",
      "source": [
        "for pdq in pdq_combination:\n",
        "  try:\n",
        "    model=ARIMA(train,order=pdq).fit()\n",
        "    pred=model.predict(start=len(train),end=len(ts)-1)\n",
        "    error=np.sqrt(mean_squared_error(test,pred))\n",
        "    order1.append(pdq)\n",
        "    rmse.append(error)\n",
        "\n",
        "  except:\n",
        "    continue   "
      ],
      "metadata": {
        "id": "pGXMtk6kiAhL"
      },
      "execution_count": 84,
      "outputs": []
    },
    {
      "cell_type": "code",
      "source": [
        "results=pd.DataFrame(index=order1, data=rmse, columns=['RMSE'])\n",
        "results.to_csv('ARIMA_results.csv')"
      ],
      "metadata": {
        "id": "43RQzqo9i9cP"
      },
      "execution_count": 85,
      "outputs": []
    },
    {
      "cell_type": "code",
      "source": [
        "results"
      ],
      "metadata": {
        "colab": {
          "base_uri": "https://localhost:8080/",
          "height": 1000
        },
        "id": "vfCVhbg6jr-f",
        "outputId": "368722d2-b108-4138-a808-56cfb184011d"
      },
      "execution_count": 86,
      "outputs": [
        {
          "output_type": "execute_result",
          "data": {
            "text/plain": [
              "                   RMSE\n",
              "(0, 0, 0)   4543.026098\n",
              "(0, 0, 1)   4537.927204\n",
              "(0, 1, 0)  15305.545529\n",
              "(0, 1, 1)  15306.507946\n",
              "(0, 2, 0)  15315.172267\n",
              "(0, 2, 1)  15348.235052\n",
              "(1, 0, 0)   4538.417456\n",
              "(1, 0, 1)   4537.463123\n",
              "(1, 1, 0)  15306.432803\n",
              "(1, 1, 1)  15306.239393\n",
              "(1, 2, 0)  15315.835348\n",
              "(1, 2, 1)  15348.104969\n",
              "(2, 0, 0)   4536.535150\n",
              "(2, 0, 1)   4481.231601\n",
              "(2, 1, 0)  15295.177635\n",
              "(2, 1, 1)  15298.098879\n",
              "(2, 2, 0)  15311.997841\n",
              "(2, 2, 1)  15346.060682\n",
              "(3, 0, 0)   4533.094682\n",
              "(3, 1, 0)  15330.012804\n",
              "(3, 1, 1)  15423.590314\n",
              "(3, 2, 0)  15313.117497\n",
              "(4, 0, 0)   4522.888849\n",
              "(4, 0, 1)   4524.897047\n",
              "(4, 1, 0)  15376.122426\n",
              "(4, 1, 1)  15431.821462\n",
              "(4, 2, 0)  15306.896652\n",
              "(5, 0, 0)   4526.902767\n",
              "(5, 1, 0)  15440.751781\n",
              "(5, 1, 1)  15432.170025\n",
              "(6, 0, 0)   4559.707941\n",
              "(6, 0, 1)   4563.340193\n",
              "(6, 1, 0)  15423.195066\n",
              "(6, 1, 1)  15424.564915\n",
              "(7, 0, 0)   4583.112707\n",
              "(7, 0, 1)   4573.589630"
            ],
            "text/html": [
              "\n",
              "  <div id=\"df-284b7ca4-f2ed-4300-aefb-a2dc067550a9\">\n",
              "    <div class=\"colab-df-container\">\n",
              "      <div>\n",
              "<style scoped>\n",
              "    .dataframe tbody tr th:only-of-type {\n",
              "        vertical-align: middle;\n",
              "    }\n",
              "\n",
              "    .dataframe tbody tr th {\n",
              "        vertical-align: top;\n",
              "    }\n",
              "\n",
              "    .dataframe thead th {\n",
              "        text-align: right;\n",
              "    }\n",
              "</style>\n",
              "<table border=\"1\" class=\"dataframe\">\n",
              "  <thead>\n",
              "    <tr style=\"text-align: right;\">\n",
              "      <th></th>\n",
              "      <th>RMSE</th>\n",
              "    </tr>\n",
              "  </thead>\n",
              "  <tbody>\n",
              "    <tr>\n",
              "      <th>(0, 0, 0)</th>\n",
              "      <td>4543.026098</td>\n",
              "    </tr>\n",
              "    <tr>\n",
              "      <th>(0, 0, 1)</th>\n",
              "      <td>4537.927204</td>\n",
              "    </tr>\n",
              "    <tr>\n",
              "      <th>(0, 1, 0)</th>\n",
              "      <td>15305.545529</td>\n",
              "    </tr>\n",
              "    <tr>\n",
              "      <th>(0, 1, 1)</th>\n",
              "      <td>15306.507946</td>\n",
              "    </tr>\n",
              "    <tr>\n",
              "      <th>(0, 2, 0)</th>\n",
              "      <td>15315.172267</td>\n",
              "    </tr>\n",
              "    <tr>\n",
              "      <th>(0, 2, 1)</th>\n",
              "      <td>15348.235052</td>\n",
              "    </tr>\n",
              "    <tr>\n",
              "      <th>(1, 0, 0)</th>\n",
              "      <td>4538.417456</td>\n",
              "    </tr>\n",
              "    <tr>\n",
              "      <th>(1, 0, 1)</th>\n",
              "      <td>4537.463123</td>\n",
              "    </tr>\n",
              "    <tr>\n",
              "      <th>(1, 1, 0)</th>\n",
              "      <td>15306.432803</td>\n",
              "    </tr>\n",
              "    <tr>\n",
              "      <th>(1, 1, 1)</th>\n",
              "      <td>15306.239393</td>\n",
              "    </tr>\n",
              "    <tr>\n",
              "      <th>(1, 2, 0)</th>\n",
              "      <td>15315.835348</td>\n",
              "    </tr>\n",
              "    <tr>\n",
              "      <th>(1, 2, 1)</th>\n",
              "      <td>15348.104969</td>\n",
              "    </tr>\n",
              "    <tr>\n",
              "      <th>(2, 0, 0)</th>\n",
              "      <td>4536.535150</td>\n",
              "    </tr>\n",
              "    <tr>\n",
              "      <th>(2, 0, 1)</th>\n",
              "      <td>4481.231601</td>\n",
              "    </tr>\n",
              "    <tr>\n",
              "      <th>(2, 1, 0)</th>\n",
              "      <td>15295.177635</td>\n",
              "    </tr>\n",
              "    <tr>\n",
              "      <th>(2, 1, 1)</th>\n",
              "      <td>15298.098879</td>\n",
              "    </tr>\n",
              "    <tr>\n",
              "      <th>(2, 2, 0)</th>\n",
              "      <td>15311.997841</td>\n",
              "    </tr>\n",
              "    <tr>\n",
              "      <th>(2, 2, 1)</th>\n",
              "      <td>15346.060682</td>\n",
              "    </tr>\n",
              "    <tr>\n",
              "      <th>(3, 0, 0)</th>\n",
              "      <td>4533.094682</td>\n",
              "    </tr>\n",
              "    <tr>\n",
              "      <th>(3, 1, 0)</th>\n",
              "      <td>15330.012804</td>\n",
              "    </tr>\n",
              "    <tr>\n",
              "      <th>(3, 1, 1)</th>\n",
              "      <td>15423.590314</td>\n",
              "    </tr>\n",
              "    <tr>\n",
              "      <th>(3, 2, 0)</th>\n",
              "      <td>15313.117497</td>\n",
              "    </tr>\n",
              "    <tr>\n",
              "      <th>(4, 0, 0)</th>\n",
              "      <td>4522.888849</td>\n",
              "    </tr>\n",
              "    <tr>\n",
              "      <th>(4, 0, 1)</th>\n",
              "      <td>4524.897047</td>\n",
              "    </tr>\n",
              "    <tr>\n",
              "      <th>(4, 1, 0)</th>\n",
              "      <td>15376.122426</td>\n",
              "    </tr>\n",
              "    <tr>\n",
              "      <th>(4, 1, 1)</th>\n",
              "      <td>15431.821462</td>\n",
              "    </tr>\n",
              "    <tr>\n",
              "      <th>(4, 2, 0)</th>\n",
              "      <td>15306.896652</td>\n",
              "    </tr>\n",
              "    <tr>\n",
              "      <th>(5, 0, 0)</th>\n",
              "      <td>4526.902767</td>\n",
              "    </tr>\n",
              "    <tr>\n",
              "      <th>(5, 1, 0)</th>\n",
              "      <td>15440.751781</td>\n",
              "    </tr>\n",
              "    <tr>\n",
              "      <th>(5, 1, 1)</th>\n",
              "      <td>15432.170025</td>\n",
              "    </tr>\n",
              "    <tr>\n",
              "      <th>(6, 0, 0)</th>\n",
              "      <td>4559.707941</td>\n",
              "    </tr>\n",
              "    <tr>\n",
              "      <th>(6, 0, 1)</th>\n",
              "      <td>4563.340193</td>\n",
              "    </tr>\n",
              "    <tr>\n",
              "      <th>(6, 1, 0)</th>\n",
              "      <td>15423.195066</td>\n",
              "    </tr>\n",
              "    <tr>\n",
              "      <th>(6, 1, 1)</th>\n",
              "      <td>15424.564915</td>\n",
              "    </tr>\n",
              "    <tr>\n",
              "      <th>(7, 0, 0)</th>\n",
              "      <td>4583.112707</td>\n",
              "    </tr>\n",
              "    <tr>\n",
              "      <th>(7, 0, 1)</th>\n",
              "      <td>4573.589630</td>\n",
              "    </tr>\n",
              "  </tbody>\n",
              "</table>\n",
              "</div>\n",
              "      <button class=\"colab-df-convert\" onclick=\"convertToInteractive('df-284b7ca4-f2ed-4300-aefb-a2dc067550a9')\"\n",
              "              title=\"Convert this dataframe to an interactive table.\"\n",
              "              style=\"display:none;\">\n",
              "        \n",
              "  <svg xmlns=\"http://www.w3.org/2000/svg\" height=\"24px\"viewBox=\"0 0 24 24\"\n",
              "       width=\"24px\">\n",
              "    <path d=\"M0 0h24v24H0V0z\" fill=\"none\"/>\n",
              "    <path d=\"M18.56 5.44l.94 2.06.94-2.06 2.06-.94-2.06-.94-.94-2.06-.94 2.06-2.06.94zm-11 1L8.5 8.5l.94-2.06 2.06-.94-2.06-.94L8.5 2.5l-.94 2.06-2.06.94zm10 10l.94 2.06.94-2.06 2.06-.94-2.06-.94-.94-2.06-.94 2.06-2.06.94z\"/><path d=\"M17.41 7.96l-1.37-1.37c-.4-.4-.92-.59-1.43-.59-.52 0-1.04.2-1.43.59L10.3 9.45l-7.72 7.72c-.78.78-.78 2.05 0 2.83L4 21.41c.39.39.9.59 1.41.59.51 0 1.02-.2 1.41-.59l7.78-7.78 2.81-2.81c.8-.78.8-2.07 0-2.86zM5.41 20L4 18.59l7.72-7.72 1.47 1.35L5.41 20z\"/>\n",
              "  </svg>\n",
              "      </button>\n",
              "      \n",
              "  <style>\n",
              "    .colab-df-container {\n",
              "      display:flex;\n",
              "      flex-wrap:wrap;\n",
              "      gap: 12px;\n",
              "    }\n",
              "\n",
              "    .colab-df-convert {\n",
              "      background-color: #E8F0FE;\n",
              "      border: none;\n",
              "      border-radius: 50%;\n",
              "      cursor: pointer;\n",
              "      display: none;\n",
              "      fill: #1967D2;\n",
              "      height: 32px;\n",
              "      padding: 0 0 0 0;\n",
              "      width: 32px;\n",
              "    }\n",
              "\n",
              "    .colab-df-convert:hover {\n",
              "      background-color: #E2EBFA;\n",
              "      box-shadow: 0px 1px 2px rgba(60, 64, 67, 0.3), 0px 1px 3px 1px rgba(60, 64, 67, 0.15);\n",
              "      fill: #174EA6;\n",
              "    }\n",
              "\n",
              "    [theme=dark] .colab-df-convert {\n",
              "      background-color: #3B4455;\n",
              "      fill: #D2E3FC;\n",
              "    }\n",
              "\n",
              "    [theme=dark] .colab-df-convert:hover {\n",
              "      background-color: #434B5C;\n",
              "      box-shadow: 0px 1px 3px 1px rgba(0, 0, 0, 0.15);\n",
              "      filter: drop-shadow(0px 1px 2px rgba(0, 0, 0, 0.3));\n",
              "      fill: #FFFFFF;\n",
              "    }\n",
              "  </style>\n",
              "\n",
              "      <script>\n",
              "        const buttonEl =\n",
              "          document.querySelector('#df-284b7ca4-f2ed-4300-aefb-a2dc067550a9 button.colab-df-convert');\n",
              "        buttonEl.style.display =\n",
              "          google.colab.kernel.accessAllowed ? 'block' : 'none';\n",
              "\n",
              "        async function convertToInteractive(key) {\n",
              "          const element = document.querySelector('#df-284b7ca4-f2ed-4300-aefb-a2dc067550a9');\n",
              "          const dataTable =\n",
              "            await google.colab.kernel.invokeFunction('convertToInteractive',\n",
              "                                                     [key], {});\n",
              "          if (!dataTable) return;\n",
              "\n",
              "          const docLinkHtml = 'Like what you see? Visit the ' +\n",
              "            '<a target=\"_blank\" href=https://colab.research.google.com/notebooks/data_table.ipynb>data table notebook</a>'\n",
              "            + ' to learn more about interactive tables.';\n",
              "          element.innerHTML = '';\n",
              "          dataTable['output_type'] = 'display_data';\n",
              "          await google.colab.output.renderOutput(dataTable, element);\n",
              "          const docLink = document.createElement('div');\n",
              "          docLink.innerHTML = docLinkHtml;\n",
              "          element.appendChild(docLink);\n",
              "        }\n",
              "      </script>\n",
              "    </div>\n",
              "  </div>\n",
              "  "
            ]
          },
          "metadata": {},
          "execution_count": 86
        }
      ]
    },
    {
      "cell_type": "markdown",
      "source": [
        "ACF PACF"
      ],
      "metadata": {
        "id": "ZIqFqlWTknMz"
      }
    },
    {
      "cell_type": "code",
      "source": [
        "from pmdarima import plot_pacf\n",
        "from statsmodels.graphics.tsaplots import plot_acf, plot_pacf\n",
        "fix,axes=plt.subplots(2,3)\n",
        "axes[0,0].plot(ts)\n",
        "plot_acf(ts,ax=axes[0,1])\n",
        "plot_acf(ts.diff().dropna(), ax=axes[0,2])\n",
        "axes[1,0].plot(ts)\n",
        "plot_pacf(ts.diff().dropna(),ax=axes[1,1])\n",
        "plot_pacf(ts.dropna(),ax=axes[1,2])\n",
        "plt.show()\n",
        "\n"
      ],
      "metadata": {
        "colab": {
          "base_uri": "https://localhost:8080/",
          "height": 281
        },
        "id": "NHN_GzrRko9S",
        "outputId": "ce6846f3-1795-4c0d-d186-55586e7ac95b"
      },
      "execution_count": 92,
      "outputs": [
        {
          "output_type": "display_data",
          "data": {
            "text/plain": [
              "<Figure size 432x288 with 6 Axes>"
            ],
            "image/png": "[encoded data removed]"
          },
          "metadata": {
            "needs_background": "light"
          }
        }
      ]
    },
    {
      "cell_type": "code",
      "source": [
        "import pmdarima\n",
        "from pmdarima import auto_arima\n",
        "auto_arima(train, m=12, start_P=0, seasonal=True, d=1, trace=True, error_action ='ignore',supress_warnings=True, stepwise=True)"
      ],
      "metadata": {
        "colab": {
          "base_uri": "https://localhost:8080/"
        },
        "id": "3_pR90Wmj2xs",
        "outputId": "63944f59-0bab-44d6-8b55-f84cfa9fc19d"
      },
      "execution_count": 93,
      "outputs": [
        {
          "output_type": "stream",
          "name": "stdout",
          "text": [
            "Performing stepwise search to minimize aic\n",
            " ARIMA(2,1,2)(0,1,1)[12]             : AIC=inf, Time=3.00 sec\n",
            " ARIMA(0,1,0)(0,1,0)[12]             : AIC=124.710, Time=0.07 sec\n",
            " ARIMA(1,1,0)(1,1,0)[12]             : AIC=inf, Time=0.59 sec\n",
            " ARIMA(0,1,1)(0,1,1)[12]             : AIC=inf, Time=0.19 sec\n",
            " ARIMA(0,1,0)(1,1,0)[12]             : AIC=inf, Time=0.09 sec\n",
            " ARIMA(0,1,0)(0,1,1)[12]             : AIC=inf, Time=0.14 sec\n",
            " ARIMA(0,1,0)(1,1,1)[12]             : AIC=125.240, Time=0.17 sec\n",
            " ARIMA(1,1,0)(0,1,0)[12]             : AIC=126.641, Time=0.03 sec\n",
            " ARIMA(0,1,1)(0,1,0)[12]             : AIC=126.636, Time=0.08 sec\n",
            " ARIMA(1,1,1)(0,1,0)[12]             : AIC=127.948, Time=0.20 sec\n",
            " ARIMA(0,1,0)(0,1,0)[12] intercept   : AIC=126.668, Time=0.02 sec\n",
            "\n",
            "Best model:  ARIMA(0,1,0)(0,1,0)[12]          \n",
            "Total fit time: 4.675 seconds\n"
          ]
        },
        {
          "output_type": "execute_result",
          "data": {
            "text/plain": [
              "ARIMA(order=(0, 1, 0), scoring_args={}, seasonal_order=(0, 1, 0, 12),\n",
              "      suppress_warnings=True, with_intercept=False)"
            ]
          },
          "metadata": {},
          "execution_count": 93
        }
      ]
    },
    {
      "cell_type": "code",
      "source": [],
      "metadata": {
        "id": "Dxt7p866m4hW"
      },
      "execution_count": null,
      "outputs": []
    }
  ]
}